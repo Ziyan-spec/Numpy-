{
  "nbformat": 4,
  "nbformat_minor": 0,
  "metadata": {
    "colab": {
      "provenance": [],
      "authorship_tag": "ABX9TyN25eVwRiE5Fl/Bzp3DxMrK",
      "include_colab_link": true
    },
    "kernelspec": {
      "name": "python3",
      "display_name": "Python 3"
    },
    "language_info": {
      "name": "python"
    }
  },
  "cells": [
    {
      "cell_type": "markdown",
      "metadata": {
        "id": "view-in-github",
        "colab_type": "text"
      },
      "source": [
        "<a href=\"https://colab.research.google.com/github/Ziyan-spec/Numpy-/blob/main/Numpy_Tricks.ipynb\" target=\"_parent\"><img src=\"https://colab.research.google.com/assets/colab-badge.svg\" alt=\"Open In Colab\"/></a>"
      ]
    },
    {
      "cell_type": "code",
      "source": [
        "import numpy as np"
      ],
      "metadata": {
        "id": "QjQDwMlLSgoF"
      },
      "execution_count": null,
      "outputs": []
    },
    {
      "cell_type": "markdown",
      "source": [
        "# **Sorting**"
      ],
      "metadata": {
        "id": "c2KLN46fU9zD"
      }
    },
    {
      "cell_type": "code",
      "execution_count": null,
      "metadata": {
        "id": "TnKB0xaj_mPk",
        "colab": {
          "base_uri": "https://localhost:8080/"
        },
        "outputId": "acbef1d6-9539-4ce5-da36-ac25e4a828d6"
      },
      "outputs": [
        {
          "output_type": "stream",
          "name": "stdout",
          "text": [
            "[57 19 28 72 37 44 94  4 82 46 16  1 28 64 58]\n",
            "Sorted in Ascending order: [ 1  4 16 19 28 28 37 44 46 57 58 64 72 82 94]\n",
            "In descending order : [94 82 72 64 58 57 46 44 37 28 28 19 16  4  1]\n"
          ]
        }
      ],
      "source": [
        "#sort\n",
        "a = np.random.randint(1,100,15)\n",
        "print(a)\n",
        "print(f\"Sorted in Ascending order: {np.sort(a)}\")\n",
        "print(f\"In descending order : {np.sort(a)[::-1]}\")"
      ]
    },
    {
      "cell_type": "code",
      "source": [
        "#2D array\n",
        "b = np.random.randint(1,100,24).reshape(6,4)\n",
        "print(b)"
      ],
      "metadata": {
        "colab": {
          "base_uri": "https://localhost:8080/"
        },
        "id": "h9-iS7G0TF7t",
        "outputId": "ac8ee53f-1faa-40d9-9215-41671704f8fd"
      },
      "execution_count": null,
      "outputs": [
        {
          "output_type": "stream",
          "name": "stdout",
          "text": [
            "[[ 2 60 91 49]\n",
            " [17 84 93 39]\n",
            " [83 76  7  4]\n",
            " [10 88 50 24]\n",
            " [68 95  9 40]\n",
            " [45 97 15 47]]\n"
          ]
        }
      ]
    },
    {
      "cell_type": "code",
      "source": [
        "#sorting of 2D array\n",
        "np.sort(b, axis=0)"
      ],
      "metadata": {
        "colab": {
          "base_uri": "https://localhost:8080/"
        },
        "id": "guC-eoE2TWQc",
        "outputId": "11fc1b08-a0aa-49a8-f032-1f3a3e452e95"
      },
      "execution_count": null,
      "outputs": [
        {
          "output_type": "execute_result",
          "data": {
            "text/plain": [
              "array([[ 2, 60,  7,  4],\n",
              "       [10, 76,  9, 24],\n",
              "       [17, 84, 15, 39],\n",
              "       [45, 88, 50, 40],\n",
              "       [68, 95, 91, 47],\n",
              "       [83, 97, 93, 49]])"
            ]
          },
          "metadata": {},
          "execution_count": 66
        }
      ]
    },
    {
      "cell_type": "markdown",
      "source": [
        "# **Append**"
      ],
      "metadata": {
        "id": "KCScZ8j5Upzv"
      }
    },
    {
      "cell_type": "code",
      "source": [
        "a"
      ],
      "metadata": {
        "colab": {
          "base_uri": "https://localhost:8080/"
        },
        "id": "F_EUdJNsT2EF",
        "outputId": "56f1c7dd-67aa-46d5-e98c-28ee0abb6285"
      },
      "execution_count": null,
      "outputs": [
        {
          "output_type": "execute_result",
          "data": {
            "text/plain": [
              "array([57, 19, 28, 72, 37, 44, 94,  4, 82, 46, 16,  1, 28, 64, 58])"
            ]
          },
          "metadata": {},
          "execution_count": 67
        }
      ]
    },
    {
      "cell_type": "code",
      "source": [
        "np.append(a,290)"
      ],
      "metadata": {
        "colab": {
          "base_uri": "https://localhost:8080/"
        },
        "id": "tgHTCSptT18Q",
        "outputId": "31e64961-05d1-4315-de05-e2c67c984348"
      },
      "execution_count": null,
      "outputs": [
        {
          "output_type": "execute_result",
          "data": {
            "text/plain": [
              "array([ 57,  19,  28,  72,  37,  44,  94,   4,  82,  46,  16,   1,  28,\n",
              "        64,  58, 290])"
            ]
          },
          "metadata": {},
          "execution_count": 68
        }
      ]
    },
    {
      "cell_type": "code",
      "source": [
        "b"
      ],
      "metadata": {
        "colab": {
          "base_uri": "https://localhost:8080/"
        },
        "id": "zDokl2wAT101",
        "outputId": "b5566c8c-5e00-4414-c112-77e8bde6e6d0"
      },
      "execution_count": null,
      "outputs": [
        {
          "output_type": "execute_result",
          "data": {
            "text/plain": [
              "array([[ 2, 60, 91, 49],\n",
              "       [17, 84, 93, 39],\n",
              "       [83, 76,  7,  4],\n",
              "       [10, 88, 50, 24],\n",
              "       [68, 95,  9, 40],\n",
              "       [45, 97, 15, 47]])"
            ]
          },
          "metadata": {},
          "execution_count": 69
        }
      ]
    },
    {
      "cell_type": "code",
      "source": [
        "np.append(b,np.ones((b.shape[0],1)),axis=1)"
      ],
      "metadata": {
        "colab": {
          "base_uri": "https://localhost:8080/"
        },
        "id": "DeWADYl2T1tq",
        "outputId": "8d85a8ef-6a61-4056-d72e-4a9e2fce22ec"
      },
      "execution_count": null,
      "outputs": [
        {
          "output_type": "execute_result",
          "data": {
            "text/plain": [
              "array([[ 2., 60., 91., 49.,  1.],\n",
              "       [17., 84., 93., 39.,  1.],\n",
              "       [83., 76.,  7.,  4.,  1.],\n",
              "       [10., 88., 50., 24.,  1.],\n",
              "       [68., 95.,  9., 40.,  1.],\n",
              "       [45., 97., 15., 47.,  1.]])"
            ]
          },
          "metadata": {},
          "execution_count": 70
        }
      ]
    },
    {
      "cell_type": "code",
      "source": [
        "b.shape"
      ],
      "metadata": {
        "colab": {
          "base_uri": "https://localhost:8080/"
        },
        "id": "nR0HKpSHT1j9",
        "outputId": "33bad38f-4ff4-4578-b969-add1674f1ca4"
      },
      "execution_count": null,
      "outputs": [
        {
          "output_type": "execute_result",
          "data": {
            "text/plain": [
              "(6, 4)"
            ]
          },
          "metadata": {},
          "execution_count": 71
        }
      ]
    },
    {
      "cell_type": "code",
      "source": [
        "b.shape[0]     #give no. of rows"
      ],
      "metadata": {
        "colab": {
          "base_uri": "https://localhost:8080/"
        },
        "id": "TXFE1pyjT1JT",
        "outputId": "3a4089f5-8ad9-4b7d-ad71-ad33985d0cd9"
      },
      "execution_count": null,
      "outputs": [
        {
          "output_type": "execute_result",
          "data": {
            "text/plain": [
              "6"
            ]
          },
          "metadata": {},
          "execution_count": 72
        }
      ]
    },
    {
      "cell_type": "code",
      "source": [
        "b.shape[1]     #give no. of columns"
      ],
      "metadata": {
        "colab": {
          "base_uri": "https://localhost:8080/"
        },
        "id": "bIHYc1ZZT0dR",
        "outputId": "1b655fa9-670c-484e-ba9b-83031de35ac7"
      },
      "execution_count": null,
      "outputs": [
        {
          "output_type": "execute_result",
          "data": {
            "text/plain": [
              "4"
            ]
          },
          "metadata": {},
          "execution_count": 73
        }
      ]
    },
    {
      "cell_type": "markdown",
      "source": [
        "# **Concatenate**"
      ],
      "metadata": {
        "id": "_9eQkz2wO_Bz"
      }
    },
    {
      "cell_type": "code",
      "source": [
        "a = np.arange(6,12).reshape(2,3)\n",
        "a"
      ],
      "metadata": {
        "colab": {
          "base_uri": "https://localhost:8080/"
        },
        "id": "hR8mecYWPSBZ",
        "outputId": "509a954e-ad35-46d1-8642-27cebd0d5e32"
      },
      "execution_count": null,
      "outputs": [
        {
          "output_type": "execute_result",
          "data": {
            "text/plain": [
              "array([[ 6,  7,  8],\n",
              "       [ 9, 10, 11]])"
            ]
          },
          "metadata": {},
          "execution_count": 74
        }
      ]
    },
    {
      "cell_type": "code",
      "source": [
        "b = np.arange(6).reshape(2,3)\n",
        "b"
      ],
      "metadata": {
        "colab": {
          "base_uri": "https://localhost:8080/"
        },
        "id": "Vg6y68xWPHXF",
        "outputId": "3fd3501d-b6af-45e1-88b6-4fcc55dd5f06"
      },
      "execution_count": null,
      "outputs": [
        {
          "output_type": "execute_result",
          "data": {
            "text/plain": [
              "array([[0, 1, 2],\n",
              "       [3, 4, 5]])"
            ]
          },
          "metadata": {},
          "execution_count": 75
        }
      ]
    },
    {
      "cell_type": "code",
      "source": [
        "np.concatenate((a,b), axis=1)"
      ],
      "metadata": {
        "colab": {
          "base_uri": "https://localhost:8080/"
        },
        "id": "bKUgjJUqPkeB",
        "outputId": "ed01fff9-6a6b-49e2-dc5b-b1eb8bf098b3"
      },
      "execution_count": null,
      "outputs": [
        {
          "output_type": "execute_result",
          "data": {
            "text/plain": [
              "array([[ 6,  7,  8,  0,  1,  2],\n",
              "       [ 9, 10, 11,  3,  4,  5]])"
            ]
          },
          "metadata": {},
          "execution_count": 76
        }
      ]
    },
    {
      "cell_type": "markdown",
      "source": [
        "# **Unique**"
      ],
      "metadata": {
        "id": "Pwk_DRWGPjQj"
      }
    },
    {
      "cell_type": "code",
      "source": [
        "a = np.array([1,1,2,2,3,4,4,4,5,5,5,6,6])\n",
        "a"
      ],
      "metadata": {
        "colab": {
          "base_uri": "https://localhost:8080/"
        },
        "id": "JpmWxZF7Qzzh",
        "outputId": "2af7b0a4-fbe2-4be9-9065-b06406dd88bf"
      },
      "execution_count": null,
      "outputs": [
        {
          "output_type": "execute_result",
          "data": {
            "text/plain": [
              "array([1, 1, 2, 2, 3, 4, 4, 4, 5, 5, 5, 6, 6])"
            ]
          },
          "metadata": {},
          "execution_count": 77
        }
      ]
    },
    {
      "cell_type": "code",
      "source": [
        "np.unique(a)"
      ],
      "metadata": {
        "colab": {
          "base_uri": "https://localhost:8080/"
        },
        "id": "jF-8ai1eQzW5",
        "outputId": "60a92a5e-0082-4fdd-9d98-1e397a2c313b"
      },
      "execution_count": null,
      "outputs": [
        {
          "output_type": "execute_result",
          "data": {
            "text/plain": [
              "array([1, 2, 3, 4, 5, 6])"
            ]
          },
          "metadata": {},
          "execution_count": 78
        }
      ]
    },
    {
      "cell_type": "markdown",
      "source": [
        "# **Expand_dimension**"
      ],
      "metadata": {
        "id": "CNSbN9ZERPFS"
      }
    },
    {
      "cell_type": "code",
      "source": [
        "a = np.arange(10)\n",
        "a"
      ],
      "metadata": {
        "colab": {
          "base_uri": "https://localhost:8080/"
        },
        "id": "A4h9nh-VQy9W",
        "outputId": "17a5b6e3-e986-4be9-b1a1-5ee28f3d3fb6"
      },
      "execution_count": null,
      "outputs": [
        {
          "output_type": "execute_result",
          "data": {
            "text/plain": [
              "array([0, 1, 2, 3, 4, 5, 6, 7, 8, 9])"
            ]
          },
          "metadata": {},
          "execution_count": 79
        }
      ]
    },
    {
      "cell_type": "code",
      "source": [
        "e = np.expand_dims(a, axis=1)\n",
        "print(e)\n",
        "print(e.shape)"
      ],
      "metadata": {
        "colab": {
          "base_uri": "https://localhost:8080/"
        },
        "id": "nCFDXWcbQyVm",
        "outputId": "459c7d73-0b7f-4330-ac8e-591403f4ae6c"
      },
      "execution_count": null,
      "outputs": [
        {
          "output_type": "stream",
          "name": "stdout",
          "text": [
            "[[0]\n",
            " [1]\n",
            " [2]\n",
            " [3]\n",
            " [4]\n",
            " [5]\n",
            " [6]\n",
            " [7]\n",
            " [8]\n",
            " [9]]\n",
            "(10, 1)\n"
          ]
        }
      ]
    },
    {
      "cell_type": "code",
      "source": [
        "e2 = np.expand_dims(a,axis=0)\n",
        "print(e2)\n",
        "e2.shape"
      ],
      "metadata": {
        "colab": {
          "base_uri": "https://localhost:8080/"
        },
        "id": "D07Afy6WSSvY",
        "outputId": "8144b19f-b25a-4f7a-924b-aff5002331f0"
      },
      "execution_count": null,
      "outputs": [
        {
          "output_type": "stream",
          "name": "stdout",
          "text": [
            "[[0 1 2 3 4 5 6 7 8 9]]\n"
          ]
        },
        {
          "output_type": "execute_result",
          "data": {
            "text/plain": [
              "(1, 10)"
            ]
          },
          "metadata": {},
          "execution_count": 81
        }
      ]
    },
    {
      "cell_type": "markdown",
      "source": [
        "# **Where**, **argmax**, **argmin**"
      ],
      "metadata": {
        "id": "gkgma4rvVBDr"
      }
    },
    {
      "cell_type": "code",
      "source": [
        "#where\n",
        "a = np.random.randint(1,100,10)\n",
        "a"
      ],
      "metadata": {
        "colab": {
          "base_uri": "https://localhost:8080/"
        },
        "id": "0ePrzfggSR_w",
        "outputId": "6a97f936-6e02-4fb9-eb53-14cf5247bd34"
      },
      "execution_count": null,
      "outputs": [
        {
          "output_type": "execute_result",
          "data": {
            "text/plain": [
              "array([49, 67, 25, 15, 16, 48,  9, 41, 35, 75])"
            ]
          },
          "metadata": {},
          "execution_count": 82
        }
      ]
    },
    {
      "cell_type": "code",
      "source": [
        "#find all the indices greater than 50\n",
        "np.where(a>50)"
      ],
      "metadata": {
        "colab": {
          "base_uri": "https://localhost:8080/"
        },
        "id": "nMudFyqYSRlu",
        "outputId": "a157b1b7-7159-4bee-f1a4-a4967291e3ff"
      },
      "execution_count": null,
      "outputs": [
        {
          "output_type": "execute_result",
          "data": {
            "text/plain": [
              "(array([1, 9]),)"
            ]
          },
          "metadata": {},
          "execution_count": 83
        }
      ]
    },
    {
      "cell_type": "code",
      "source": [
        "#find al the indices greater than 50 and replace elements with 0\n",
        "np.where(a>50,0,a)   #np.where(condition,true,false)"
      ],
      "metadata": {
        "colab": {
          "base_uri": "https://localhost:8080/"
        },
        "id": "FPhFdSEBSQ3e",
        "outputId": "7d586c38-9a99-4599-eba4-91afd17ad71e"
      },
      "execution_count": null,
      "outputs": [
        {
          "output_type": "execute_result",
          "data": {
            "text/plain": [
              "array([49,  0, 25, 15, 16, 48,  9, 41, 35,  0])"
            ]
          },
          "metadata": {},
          "execution_count": 84
        }
      ]
    },
    {
      "cell_type": "code",
      "source": [
        "#argmax\n",
        "np.argmax(a)    #give index of maximum element"
      ],
      "metadata": {
        "colab": {
          "base_uri": "https://localhost:8080/"
        },
        "id": "enSKITi3WV4m",
        "outputId": "df46183d-b18e-4f9c-d56e-785e1d6d69e0"
      },
      "execution_count": null,
      "outputs": [
        {
          "output_type": "execute_result",
          "data": {
            "text/plain": [
              "np.int64(9)"
            ]
          },
          "metadata": {},
          "execution_count": 85
        }
      ]
    },
    {
      "cell_type": "code",
      "source": [
        "#argmin\n",
        "np.argmin(a)"
      ],
      "metadata": {
        "colab": {
          "base_uri": "https://localhost:8080/"
        },
        "id": "F8RA8dwwWVVr",
        "outputId": "cfc40db4-8052-4420-c914-6abbc442d5e6"
      },
      "execution_count": null,
      "outputs": [
        {
          "output_type": "execute_result",
          "data": {
            "text/plain": [
              "np.int64(6)"
            ]
          },
          "metadata": {},
          "execution_count": 86
        }
      ]
    },
    {
      "cell_type": "markdown",
      "source": [
        "# **Cumulative** **Sum** **and** **Product**"
      ],
      "metadata": {
        "id": "7tD_fjXxX-K_"
      }
    },
    {
      "cell_type": "code",
      "source": [
        "#cumilative sum\n",
        "print(a)\n",
        "print(np.cumsum(a))"
      ],
      "metadata": {
        "colab": {
          "base_uri": "https://localhost:8080/"
        },
        "id": "kQOvTvWuX8zq",
        "outputId": "5e7e2a3d-ebe8-4dd2-e3a6-cd1f59d862bd"
      },
      "execution_count": null,
      "outputs": [
        {
          "output_type": "stream",
          "name": "stdout",
          "text": [
            "[49 67 25 15 16 48  9 41 35 75]\n",
            "[ 49 116 141 156 172 220 229 270 305 380]\n"
          ]
        }
      ]
    },
    {
      "cell_type": "code",
      "source": [
        "print(b)\n",
        "print(np.cumsum(b,axis=1))"
      ],
      "metadata": {
        "colab": {
          "base_uri": "https://localhost:8080/"
        },
        "id": "TbTURjYaWU65",
        "outputId": "e886d839-0e06-461c-d68f-2017cab790b3"
      },
      "execution_count": null,
      "outputs": [
        {
          "output_type": "stream",
          "name": "stdout",
          "text": [
            "[[0 1 2]\n",
            " [3 4 5]]\n",
            "[[ 0  1  3]\n",
            " [ 3  7 12]]\n"
          ]
        }
      ]
    },
    {
      "cell_type": "code",
      "source": [
        "#cumilative product\n",
        "np.cumprod(a)"
      ],
      "metadata": {
        "colab": {
          "base_uri": "https://localhost:8080/"
        },
        "id": "wa9H7AuEWUCX",
        "outputId": "4756c76c-a1c7-4ce1-d5e3-f6634f384c0c"
      },
      "execution_count": null,
      "outputs": [
        {
          "output_type": "execute_result",
          "data": {
            "text/plain": [
              "array([             49,            3283,           82075,         1231125,\n",
              "              19698000,       945504000,      8509536000,    348890976000,\n",
              "        12211184160000, 915838812000000])"
            ]
          },
          "metadata": {},
          "execution_count": 89
        }
      ]
    },
    {
      "cell_type": "markdown",
      "source": [
        "# **Percentile** **and** **histogram**"
      ],
      "metadata": {
        "id": "IqkwhVMxbXu8"
      }
    },
    {
      "cell_type": "code",
      "source": [
        "#percentile\n",
        "print(a)\n",
        "np.percentile(a,100)"
      ],
      "metadata": {
        "colab": {
          "base_uri": "https://localhost:8080/"
        },
        "id": "bZIQjppEbmS2",
        "outputId": "c7448a68-bbcb-493b-d6f2-db667df28f3d"
      },
      "execution_count": null,
      "outputs": [
        {
          "output_type": "stream",
          "name": "stdout",
          "text": [
            "[49 67 25 15 16 48  9 41 35 75]\n"
          ]
        },
        {
          "output_type": "execute_result",
          "data": {
            "text/plain": [
              "np.float64(75.0)"
            ]
          },
          "metadata": {},
          "execution_count": 90
        }
      ]
    },
    {
      "cell_type": "code",
      "source": [
        "np.percentile(a,50)"
      ],
      "metadata": {
        "colab": {
          "base_uri": "https://localhost:8080/"
        },
        "id": "VIsuL8NMbmKU",
        "outputId": "a3b8c3a6-255f-497d-f023-56648d6f4c7d"
      },
      "execution_count": null,
      "outputs": [
        {
          "output_type": "execute_result",
          "data": {
            "text/plain": [
              "np.float64(38.0)"
            ]
          },
          "metadata": {},
          "execution_count": 91
        }
      ]
    },
    {
      "cell_type": "code",
      "source": [
        "np.median(a)"
      ],
      "metadata": {
        "colab": {
          "base_uri": "https://localhost:8080/"
        },
        "id": "UTx2uC6HbmAP",
        "outputId": "9588fd3c-aada-4fa1-bcf6-f70f99c8d600"
      },
      "execution_count": null,
      "outputs": [
        {
          "output_type": "execute_result",
          "data": {
            "text/plain": [
              "np.float64(38.0)"
            ]
          },
          "metadata": {},
          "execution_count": 92
        }
      ]
    },
    {
      "cell_type": "code",
      "source": [
        "#Histogram --> give no. of elements in each bins\n",
        "a"
      ],
      "metadata": {
        "colab": {
          "base_uri": "https://localhost:8080/"
        },
        "id": "ZGEyl6jEbmc8",
        "outputId": "20317fe3-ade6-491d-8e8a-ffae8b281796"
      },
      "execution_count": null,
      "outputs": [
        {
          "output_type": "execute_result",
          "data": {
            "text/plain": [
              "array([49, 67, 25, 15, 16, 48,  9, 41, 35, 75])"
            ]
          },
          "metadata": {},
          "execution_count": 93
        }
      ]
    },
    {
      "cell_type": "code",
      "source": [
        "np.histogram(a,bins=[0,20,40,60,80,100])"
      ],
      "metadata": {
        "colab": {
          "base_uri": "https://localhost:8080/"
        },
        "id": "_hZp8hsybl0w",
        "outputId": "77b098ef-e961-455f-eac5-867f83398433"
      },
      "execution_count": null,
      "outputs": [
        {
          "output_type": "execute_result",
          "data": {
            "text/plain": [
              "(array([3, 2, 3, 2, 0]), array([  0,  20,  40,  60,  80, 100]))"
            ]
          },
          "metadata": {},
          "execution_count": 94
        }
      ]
    },
    {
      "cell_type": "markdown",
      "source": [
        "# **Correlation**"
      ],
      "metadata": {
        "id": "Vgxu_8OUdktJ"
      }
    },
    {
      "cell_type": "code",
      "source": [
        "salary = np.random.randint(5000,80000,10)\n",
        "experience= np.arange(10)\n",
        "print(salary)\n",
        "print(experience)"
      ],
      "metadata": {
        "colab": {
          "base_uri": "https://localhost:8080/"
        },
        "id": "JjVMIeo1djeE",
        "outputId": "33c8894a-161b-426c-f7e9-81e3af4aac51"
      },
      "execution_count": null,
      "outputs": [
        {
          "output_type": "stream",
          "name": "stdout",
          "text": [
            "[33512 44522 73639 53209 12747 54582 37423 78493 12507 20302]\n",
            "[0 1 2 3 4 5 6 7 8 9]\n"
          ]
        }
      ]
    },
    {
      "cell_type": "code",
      "source": [
        "np.corrcoef(salary,experience)"
      ],
      "metadata": {
        "colab": {
          "base_uri": "https://localhost:8080/"
        },
        "id": "YxTHn3Syblqs",
        "outputId": "c6161a50-e277-4343-cf76-e0d6a860abbf"
      },
      "execution_count": null,
      "outputs": [
        {
          "output_type": "execute_result",
          "data": {
            "text/plain": [
              "array([[ 1.        , -0.25466851],\n",
              "       [-0.25466851,  1.        ]])"
            ]
          },
          "metadata": {},
          "execution_count": 96
        }
      ]
    },
    {
      "cell_type": "markdown",
      "source": [
        "# **isin**, **flip**, **get**, **delete**"
      ],
      "metadata": {
        "id": "mMVJmlwJiIWc"
      }
    },
    {
      "cell_type": "code",
      "source": [
        "#isin\n",
        "print(a)\n",
        "np.isin(a,[10,80,25])"
      ],
      "metadata": {
        "colab": {
          "base_uri": "https://localhost:8080/"
        },
        "id": "Tf_Eh43viHdN",
        "outputId": "21b1dc48-eee3-4196-a8dc-a1ba2991c3c3"
      },
      "execution_count": null,
      "outputs": [
        {
          "output_type": "stream",
          "name": "stdout",
          "text": [
            "[60 67 25 15 16 48  9 41 35 75]\n"
          ]
        },
        {
          "output_type": "execute_result",
          "data": {
            "text/plain": [
              "array([False, False,  True, False, False, False, False, False, False,\n",
              "       False])"
            ]
          },
          "metadata": {},
          "execution_count": 109
        }
      ]
    },
    {
      "cell_type": "code",
      "source": [
        "a[np.isin(a,[10,80,25])]"
      ],
      "metadata": {
        "colab": {
          "base_uri": "https://localhost:8080/"
        },
        "id": "6XvNk1E5ib5V",
        "outputId": "f350205e-dda7-4af4-e608-5f31f05e5a89"
      },
      "execution_count": null,
      "outputs": [
        {
          "output_type": "execute_result",
          "data": {
            "text/plain": [
              "array([25])"
            ]
          },
          "metadata": {},
          "execution_count": 101
        }
      ]
    },
    {
      "cell_type": "code",
      "source": [
        "#flip\n",
        "np.flip(a)"
      ],
      "metadata": {
        "colab": {
          "base_uri": "https://localhost:8080/"
        },
        "id": "hshTeFuVibwC",
        "outputId": "e8d7aeb5-eaae-41d3-de54-be61e22b03e7"
      },
      "execution_count": null,
      "outputs": [
        {
          "output_type": "execute_result",
          "data": {
            "text/plain": [
              "array([75, 35, 41,  9, 48, 16, 15, 25, 67, 60])"
            ]
          },
          "metadata": {},
          "execution_count": 110
        }
      ]
    },
    {
      "cell_type": "code",
      "source": [
        "b"
      ],
      "metadata": {
        "colab": {
          "base_uri": "https://localhost:8080/"
        },
        "id": "yL3cdcZGibkn",
        "outputId": "aa015487-ce6c-4364-a90a-a385a0101bd8"
      },
      "execution_count": null,
      "outputs": [
        {
          "output_type": "execute_result",
          "data": {
            "text/plain": [
              "array([[0, 1, 2],\n",
              "       [3, 4, 5]])"
            ]
          },
          "metadata": {},
          "execution_count": 103
        }
      ]
    },
    {
      "cell_type": "code",
      "source": [
        "np.flip(b)"
      ],
      "metadata": {
        "colab": {
          "base_uri": "https://localhost:8080/"
        },
        "id": "jPrGZlJjibaM",
        "outputId": "e8da7abf-93dc-4e70-e1bb-1408225190d9"
      },
      "execution_count": null,
      "outputs": [
        {
          "output_type": "execute_result",
          "data": {
            "text/plain": [
              "array([[5, 4, 3],\n",
              "       [2, 1, 0]])"
            ]
          },
          "metadata": {},
          "execution_count": 104
        }
      ]
    },
    {
      "cell_type": "code",
      "source": [
        "np.flip(b,axis=0)"
      ],
      "metadata": {
        "colab": {
          "base_uri": "https://localhost:8080/"
        },
        "id": "n3UMOlBlibQ5",
        "outputId": "c018244a-b5a2-47ea-cf80-18d8ca9099d4"
      },
      "execution_count": null,
      "outputs": [
        {
          "output_type": "execute_result",
          "data": {
            "text/plain": [
              "array([[3, 4, 5],\n",
              "       [0, 1, 2]])"
            ]
          },
          "metadata": {},
          "execution_count": 111
        }
      ]
    },
    {
      "cell_type": "code",
      "source": [
        "#put\n",
        "np.put(a,0,890)   #changes the existing array and added 890"
      ],
      "metadata": {
        "id": "anS69bFaibHi"
      },
      "execution_count": null,
      "outputs": []
    },
    {
      "cell_type": "code",
      "source": [
        "a"
      ],
      "metadata": {
        "colab": {
          "base_uri": "https://localhost:8080/"
        },
        "id": "apqU2XxAia8a",
        "outputId": "2b7d89ce-6f98-4e08-a3bf-2930bd018c66"
      },
      "execution_count": null,
      "outputs": [
        {
          "output_type": "execute_result",
          "data": {
            "text/plain": [
              "array([890,  67,  25,  15,  16,  48,   9,  41,  35,  75])"
            ]
          },
          "metadata": {},
          "execution_count": 121
        }
      ]
    },
    {
      "cell_type": "code",
      "source": [
        "#delete\n",
        "print(a)\n",
        "np.delete(a,1)"
      ],
      "metadata": {
        "colab": {
          "base_uri": "https://localhost:8080/"
        },
        "id": "ovMBKlkxiaH9",
        "outputId": "45ed5a8e-4943-4f3f-9fcc-9e7784ed8258"
      },
      "execution_count": null,
      "outputs": [
        {
          "output_type": "stream",
          "name": "stdout",
          "text": [
            "[890  67  25  15  16  48   9  41  35  75]\n"
          ]
        },
        {
          "output_type": "execute_result",
          "data": {
            "text/plain": [
              "array([890,  25,  15,  16,  48,   9,  41,  35,  75])"
            ]
          },
          "metadata": {},
          "execution_count": 123
        }
      ]
    },
    {
      "cell_type": "markdown",
      "source": [
        "# **Set** **functions** **and** **clip**"
      ],
      "metadata": {
        "id": "BtuLWf4To7-m"
      }
    },
    {
      "cell_type": "code",
      "source": [
        "m = np.array([1,2,3,4,5])\n",
        "n = np.array([3,5,6,7])\n",
        "print(f\"m = {m}\")\n",
        "print(f\"n = {n}\")"
      ],
      "metadata": {
        "colab": {
          "base_uri": "https://localhost:8080/"
        },
        "id": "Q1MR6MM1o6ty",
        "outputId": "a43e74ae-16d1-4cff-9455-ab61d1df9614"
      },
      "execution_count": null,
      "outputs": [
        {
          "output_type": "stream",
          "name": "stdout",
          "text": [
            "m = [1 2 3 4 5]\n",
            "n = [3 5 6 7]\n"
          ]
        }
      ]
    },
    {
      "cell_type": "code",
      "source": [
        "#union\n",
        "np.union1d(m,n)"
      ],
      "metadata": {
        "colab": {
          "base_uri": "https://localhost:8080/"
        },
        "id": "QnOzGgQBptFW",
        "outputId": "d72e0f32-ac4a-4b65-f692-a19c8e1fa7ba"
      },
      "execution_count": null,
      "outputs": [
        {
          "output_type": "execute_result",
          "data": {
            "text/plain": [
              "array([1, 2, 3, 4, 5, 6, 7])"
            ]
          },
          "metadata": {},
          "execution_count": 128
        }
      ]
    },
    {
      "cell_type": "code",
      "source": [
        "#intersection\n",
        "np.intersect1d(m,n)"
      ],
      "metadata": {
        "colab": {
          "base_uri": "https://localhost:8080/"
        },
        "id": "5mH7tI0Opud-",
        "outputId": "7d67d8c8-82bc-43d0-db4e-2fdc63fae472"
      },
      "execution_count": null,
      "outputs": [
        {
          "output_type": "execute_result",
          "data": {
            "text/plain": [
              "array([3, 5])"
            ]
          },
          "metadata": {},
          "execution_count": 129
        }
      ]
    },
    {
      "cell_type": "code",
      "source": [
        "#symetric diffrence\n",
        "np.setdiff1d(m,n)"
      ],
      "metadata": {
        "colab": {
          "base_uri": "https://localhost:8080/"
        },
        "id": "QSY2ph8VpuTe",
        "outputId": "01512e95-032a-42f0-8aea-7f17ad64f470"
      },
      "execution_count": null,
      "outputs": [
        {
          "output_type": "execute_result",
          "data": {
            "text/plain": [
              "array([1, 2, 4])"
            ]
          },
          "metadata": {},
          "execution_count": 130
        }
      ]
    },
    {
      "cell_type": "code",
      "source": [
        "#symetric diffrence\n",
        "np.setdiff1d(n,m)"
      ],
      "metadata": {
        "colab": {
          "base_uri": "https://localhost:8080/"
        },
        "id": "0qGkcuZzpuJF",
        "outputId": "bbf21cb7-9406-49f4-d3e0-cb01f24695d1"
      },
      "execution_count": null,
      "outputs": [
        {
          "output_type": "execute_result",
          "data": {
            "text/plain": [
              "array([6, 7])"
            ]
          },
          "metadata": {},
          "execution_count": 131
        }
      ]
    },
    {
      "cell_type": "code",
      "source": [
        "#xor --> it gives (m union n)-(m intersection n)\n",
        "np.setxor1d(m,n)"
      ],
      "metadata": {
        "colab": {
          "base_uri": "https://localhost:8080/"
        },
        "id": "YNUq-wkUpt-2",
        "outputId": "1646d205-d4f0-446a-f086-760a033c04af"
      },
      "execution_count": null,
      "outputs": [
        {
          "output_type": "execute_result",
          "data": {
            "text/plain": [
              "array([1, 2, 4, 6, 7])"
            ]
          },
          "metadata": {},
          "execution_count": 134
        }
      ]
    },
    {
      "cell_type": "code",
      "source": [
        "#isin\n",
        "np.isin(m,5)"
      ],
      "metadata": {
        "colab": {
          "base_uri": "https://localhost:8080/"
        },
        "id": "aQH4hPm_ptSK",
        "outputId": "2b72f80b-99d0-4544-b299-249f563247ea"
      },
      "execution_count": null,
      "outputs": [
        {
          "output_type": "execute_result",
          "data": {
            "text/plain": [
              "array([False, False, False, False,  True])"
            ]
          },
          "metadata": {},
          "execution_count": 138
        }
      ]
    },
    {
      "cell_type": "code",
      "source": [
        "#clip\n",
        "print(a)\n",
        "np.clip(a,a_max=80,a_min=30)"
      ],
      "metadata": {
        "colab": {
          "base_uri": "https://localhost:8080/"
        },
        "id": "PGc4clkipsVY",
        "outputId": "ebafef68-6885-4d18-96ef-ee8cab6d3f9a"
      },
      "execution_count": null,
      "outputs": [
        {
          "output_type": "stream",
          "name": "stdout",
          "text": [
            "[890  67  25  15  16  48   9  41  35  75]\n"
          ]
        },
        {
          "output_type": "execute_result",
          "data": {
            "text/plain": [
              "array([80, 67, 30, 30, 30, 48, 30, 41, 35, 75])"
            ]
          },
          "metadata": {},
          "execution_count": 140
        }
      ]
    }
  ]
}